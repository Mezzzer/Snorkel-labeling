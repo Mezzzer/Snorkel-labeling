{
  "nbformat": 4,
  "nbformat_minor": 5,
  "metadata": {
    "kernelspec": {
      "display_name": "Python 3",
      "language": "python",
      "name": "python3"
    },
    "language_info": {
      "codemirror_mode": {
        "name": "ipython",
        "version": 3
      },
      "file_extension": ".py",
      "mimetype": "text/x-python",
      "name": "python",
      "nbconvert_exporter": "python",
      "pygments_lexer": "ipython3",
      "version": "3.8.6"
    },
    "colab": {
      "name": "Snorkel part.ipynb",
      "provenance": [],
      "collapsed_sections": [
        "L7n3DcOMIOlo",
        "GBTR4lhEIdiK"
      ],
      "toc_visible": true,
      "include_colab_link": true
    }
  },
  "cells": [
    {
      "cell_type": "markdown",
      "metadata": {
        "id": "view-in-github",
        "colab_type": "text"
      },
      "source": [
        "<a href=\"https://colab.research.google.com/github/Mezzzer/Snorkel-labeling/blob/main/Snorkel_part.ipynb\" target=\"_parent\"><img src=\"https://colab.research.google.com/assets/colab-badge.svg\" alt=\"Open In Colab\"/></a>"
      ]
    },
    {
      "cell_type": "markdown",
      "metadata": {
        "id": "efIF2WN_IK4w"
      },
      "source": [
        "# PROJEKT NUM - SNORKEL"
      ],
      "id": "efIF2WN_IK4w"
    },
    {
      "cell_type": "markdown",
      "metadata": {
        "id": "L7n3DcOMIOlo"
      },
      "source": [
        "## Instalacja bibliotek"
      ],
      "id": "L7n3DcOMIOlo"
    },
    {
      "cell_type": "code",
      "metadata": {
        "id": "dAofWz_97x-W"
      },
      "source": [
        "!pip install snorkel\n",
        "!pip install spacy_langdetect \n",
        "!pip install spacy\n",
        "!pip install spacytextblob\n",
        "!python -m spacy download en_core_web_sm\n",
        "# !python -m textblob.download_corpora\n",
        "# !pip install spacytextblob==0.1.7\n",
        "# !pip install spacytextblob -U\n",
        "# !pip install -U pip setuptools wheel\n",
        "# !pip install -U spacy\n",
        "# !python -m spacy download en_core_web_sm\n",
        "!pip install spacy-transformers"
      ],
      "id": "dAofWz_97x-W",
      "execution_count": null,
      "outputs": []
    },
    {
      "cell_type": "markdown",
      "metadata": {
        "id": "EBnO7nEPIhMM"
      },
      "source": [
        "## Import bibliotek i podpięcie dysku"
      ],
      "id": "EBnO7nEPIhMM"
    },
    {
      "cell_type": "code",
      "metadata": {
        "id": "ff592ad7-7117-430e-92ce-4eb07a1c2130"
      },
      "source": [
        "import pandas as pd\n",
        "import numpy as np\n",
        "import re \n",
        "from snorkel.labeling import labeling_function\n",
        "from textblob import TextBlob\n",
        "import spacy\n",
        "from spacy.language import Language\n",
        "from spacy_langdetect import LanguageDetector\n",
        "from spacytextblob.spacytextblob import SpacyTextBlob\n",
        "from textblob import TextBlob\n",
        "from sklearn.model_selection import train_test_split"
      ],
      "id": "ff592ad7-7117-430e-92ce-4eb07a1c2130",
      "execution_count": 87,
      "outputs": []
    },
    {
      "cell_type": "code",
      "metadata": {
        "colab": {
          "base_uri": "https://localhost:8080/"
        },
        "id": "d0VjbVqv_S3n",
        "outputId": "508d66ae-dd22-4067-c4bf-022fd3071a22"
      },
      "source": [
        "from google.colab import drive\n",
        "drive.mount('/content/drive')"
      ],
      "id": "d0VjbVqv_S3n",
      "execution_count": 4,
      "outputs": [
        {
          "output_type": "stream",
          "text": [
            "Mounted at /content/drive\n"
          ],
          "name": "stdout"
        }
      ]
    },
    {
      "cell_type": "markdown",
      "metadata": {
        "id": "GBTR4lhEIdiK"
      },
      "source": [
        "## Preprocessing (można pominąć i przejść do \"Tworzenia modelu Snorkela\")"
      ],
      "id": "GBTR4lhEIdiK"
    },
    {
      "cell_type": "markdown",
      "metadata": {
        "id": "befe93e5-388c-4986-8d82-5f283e45ec9e"
      },
      "source": [
        "### Wczytanie datasetu"
      ],
      "id": "befe93e5-388c-4986-8d82-5f283e45ec9e"
    },
    {
      "cell_type": "code",
      "metadata": {
        "colab": {
          "base_uri": "https://localhost:8080/",
          "height": 195
        },
        "id": "6fe0a4f9-6180-4d81-a295-eebd550fa81f",
        "outputId": "9609d04d-7566-4596-b0db-a48fbbcd40c1"
      },
      "source": [
        "POSITIVE = 1\n",
        "NEGATIVE = 0\n",
        "ABSTAIN = -1\n",
        "\n",
        "dataset = pd.read_csv('drive/MyDrive/NUM/steam_reviews.csv')\n",
        "dataset['label'] = np.where(dataset['recommendation'] == 'Recommended', 1, 0)\n",
        "dataset = reviews_data[['review','label']]\n",
        "reviews = dataset[['review','label']]\n",
        "reviews = reviews.rename(columns={'review': 'text'})\n",
        "reviews['text'] = reviews['text'].astype(str)\n",
        "reviews.head()"
      ],
      "id": "6fe0a4f9-6180-4d81-a295-eebd550fa81f",
      "execution_count": 77,
      "outputs": [
        {
          "output_type": "execute_result",
          "data": {
            "text/html": [
              "<div>\n",
              "<style scoped>\n",
              "    .dataframe tbody tr th:only-of-type {\n",
              "        vertical-align: middle;\n",
              "    }\n",
              "\n",
              "    .dataframe tbody tr th {\n",
              "        vertical-align: top;\n",
              "    }\n",
              "\n",
              "    .dataframe thead th {\n",
              "        text-align: right;\n",
              "    }\n",
              "</style>\n",
              "<table border=\"1\" class=\"dataframe\">\n",
              "  <thead>\n",
              "    <tr style=\"text-align: right;\">\n",
              "      <th></th>\n",
              "      <th>text</th>\n",
              "      <th>label</th>\n",
              "    </tr>\n",
              "  </thead>\n",
              "  <tbody>\n",
              "    <tr>\n",
              "      <th>0</th>\n",
              "      <td>&amp;gt Played as German Reich&amp;gt Declare war on B...</td>\n",
              "      <td>1</td>\n",
              "    </tr>\n",
              "    <tr>\n",
              "      <th>1</th>\n",
              "      <td>yes.</td>\n",
              "      <td>1</td>\n",
              "    </tr>\n",
              "    <tr>\n",
              "      <th>2</th>\n",
              "      <td>Very good game although a bit overpriced in my...</td>\n",
              "      <td>1</td>\n",
              "    </tr>\n",
              "    <tr>\n",
              "      <th>3</th>\n",
              "      <td>Out of all the reviews I wrote This one is pro...</td>\n",
              "      <td>1</td>\n",
              "    </tr>\n",
              "    <tr>\n",
              "      <th>4</th>\n",
              "      <td>Disclaimer I survivor main. I play games for f...</td>\n",
              "      <td>1</td>\n",
              "    </tr>\n",
              "  </tbody>\n",
              "</table>\n",
              "</div>"
            ],
            "text/plain": [
              "                                                text  label\n",
              "0  &gt Played as German Reich&gt Declare war on B...      1\n",
              "1                                               yes.      1\n",
              "2  Very good game although a bit overpriced in my...      1\n",
              "3  Out of all the reviews I wrote This one is pro...      1\n",
              "4  Disclaimer I survivor main. I play games for f...      1"
            ]
          },
          "metadata": {
            "tags": []
          },
          "execution_count": 77
        }
      ]
    },
    {
      "cell_type": "markdown",
      "metadata": {
        "id": "z1uMV3CNIr5z"
      },
      "source": [
        "### Usunięcie recenzji napisanych w innym języku niż angielski oraz brakujących wartości"
      ],
      "id": "z1uMV3CNIr5z"
    },
    {
      "cell_type": "code",
      "metadata": {
        "id": "3beLgMg0AtD8"
      },
      "source": [
        "def get_lang_detector(nlp, name):\n",
        "    return LanguageDetector()\n",
        "\n",
        "nlp = spacy.load(\"en_core_web_sm\")\n",
        "Language.factory(\"language_detector\", func=get_lang_detector)\n",
        "nlp.add_pipe('language_detector', last=True)\n",
        "\n",
        "reviews = reviews.dropna()\n",
        "reviews = reviews.drop(reviews[reviews['text'].map(len) < 3].index)\n",
        "reviews_part1 = reviews.iloc[:200000].copy()\n",
        "reviews_part1['language'] = reviews_part1['text'].apply(lambda rev: nlp(rev)._.language['language'])"
      ],
      "id": "3beLgMg0AtD8",
      "execution_count": 81,
      "outputs": []
    },
    {
      "cell_type": "code",
      "metadata": {
        "id": "P7xk1CyIcTyL"
      },
      "source": [
        "english_reviews = reviews_part1[reviews_part1['language']=='en'][['text','label']]\n",
        "english_reviews.to_csv(\"drive/MyDrive/NUM/reviews_english.csv\",index=False)"
      ],
      "id": "P7xk1CyIcTyL",
      "execution_count": 82,
      "outputs": []
    },
    {
      "cell_type": "code",
      "metadata": {
        "colab": {
          "base_uri": "https://localhost:8080/"
        },
        "id": "Ces3lktXczh0",
        "outputId": "469fa686-be73-45f1-f2ec-f0eafa6137b3"
      },
      "source": [
        "english_reviews.shape"
      ],
      "id": "Ces3lktXczh0",
      "execution_count": 17,
      "outputs": [
        {
          "output_type": "execute_result",
          "data": {
            "text/plain": [
              "(82499, 2)"
            ]
          },
          "metadata": {
            "tags": []
          },
          "execution_count": 17
        }
      ]
    },
    {
      "cell_type": "markdown",
      "metadata": {
        "id": "7adu5Dg4n3z8"
      },
      "source": [
        "## Tworzenie modelu Snorkela"
      ],
      "id": "7adu5Dg4n3z8"
    },
    {
      "cell_type": "markdown",
      "metadata": {
        "id": "2_Jt4oqMJQkb"
      },
      "source": [
        "### Wczytanie zapisanych recenzji napisanych po angielsku"
      ],
      "id": "2_Jt4oqMJQkb"
    },
    {
      "cell_type": "code",
      "metadata": {
        "colab": {
          "base_uri": "https://localhost:8080/",
          "height": 402
        },
        "id": "vkuODK_lycsW",
        "outputId": "9179ae01-0dcd-42d7-e038-bcc73a971906"
      },
      "source": [
        "reviews_dataset = pd.read_csv('drive/MyDrive/NUM/reviews_english.csv')\n",
        "reviews_dataset"
      ],
      "id": "vkuODK_lycsW",
      "execution_count": 114,
      "outputs": [
        {
          "output_type": "execute_result",
          "data": {
            "text/html": [
              "<div>\n",
              "<style scoped>\n",
              "    .dataframe tbody tr th:only-of-type {\n",
              "        vertical-align: middle;\n",
              "    }\n",
              "\n",
              "    .dataframe tbody tr th {\n",
              "        vertical-align: top;\n",
              "    }\n",
              "\n",
              "    .dataframe thead th {\n",
              "        text-align: right;\n",
              "    }\n",
              "</style>\n",
              "<table border=\"1\" class=\"dataframe\">\n",
              "  <thead>\n",
              "    <tr style=\"text-align: right;\">\n",
              "      <th></th>\n",
              "      <th>text</th>\n",
              "      <th>label</th>\n",
              "    </tr>\n",
              "  </thead>\n",
              "  <tbody>\n",
              "    <tr>\n",
              "      <th>0</th>\n",
              "      <td>&amp;gt Played as German Reich&amp;gt Declare war on B...</td>\n",
              "      <td>1</td>\n",
              "    </tr>\n",
              "    <tr>\n",
              "      <th>1</th>\n",
              "      <td>Very good game although a bit overpriced in my...</td>\n",
              "      <td>1</td>\n",
              "    </tr>\n",
              "    <tr>\n",
              "      <th>2</th>\n",
              "      <td>Out of all the reviews I wrote This one is pro...</td>\n",
              "      <td>1</td>\n",
              "    </tr>\n",
              "    <tr>\n",
              "      <th>3</th>\n",
              "      <td>Disclaimer I survivor main. I play games for f...</td>\n",
              "      <td>1</td>\n",
              "    </tr>\n",
              "    <tr>\n",
              "      <th>4</th>\n",
              "      <td>ENGLISH After playing for more than two years ...</td>\n",
              "      <td>1</td>\n",
              "    </tr>\n",
              "    <tr>\n",
              "      <th>...</th>\n",
              "      <td>...</td>\n",
              "      <td>...</td>\n",
              "    </tr>\n",
              "    <tr>\n",
              "      <th>163874</th>\n",
              "      <td>Product received for free. GTA V is one of the...</td>\n",
              "      <td>1</td>\n",
              "    </tr>\n",
              "    <tr>\n",
              "      <th>163875</th>\n",
              "      <td>Don't get me wrong this is a great game online...</td>\n",
              "      <td>0</td>\n",
              "    </tr>\n",
              "    <tr>\n",
              "      <th>163876</th>\n",
              "      <td>GTA 5 is a great game. The people who make it?...</td>\n",
              "      <td>1</td>\n",
              "    </tr>\n",
              "    <tr>\n",
              "      <th>163877</th>\n",
              "      <td>EDIT 7/10/17 OpenIV is back it'll be interesti...</td>\n",
              "      <td>0</td>\n",
              "    </tr>\n",
              "    <tr>\n",
              "      <th>163878</th>\n",
              "      <td>GTA 5 will probably go down in history as one ...</td>\n",
              "      <td>0</td>\n",
              "    </tr>\n",
              "  </tbody>\n",
              "</table>\n",
              "<p>163879 rows × 2 columns</p>\n",
              "</div>"
            ],
            "text/plain": [
              "                                                     text  label\n",
              "0       &gt Played as German Reich&gt Declare war on B...      1\n",
              "1       Very good game although a bit overpriced in my...      1\n",
              "2       Out of all the reviews I wrote This one is pro...      1\n",
              "3       Disclaimer I survivor main. I play games for f...      1\n",
              "4       ENGLISH After playing for more than two years ...      1\n",
              "...                                                   ...    ...\n",
              "163874  Product received for free. GTA V is one of the...      1\n",
              "163875  Don't get me wrong this is a great game online...      0\n",
              "163876  GTA 5 is a great game. The people who make it?...      1\n",
              "163877  EDIT 7/10/17 OpenIV is back it'll be interesti...      0\n",
              "163878  GTA 5 will probably go down in history as one ...      0\n",
              "\n",
              "[163879 rows x 2 columns]"
            ]
          },
          "metadata": {
            "tags": []
          },
          "execution_count": 114
        }
      ]
    },
    {
      "cell_type": "markdown",
      "metadata": {
        "id": "cu44Ol8AJa-_"
      },
      "source": [
        "### Podział na zbiór uczący i testowy"
      ],
      "id": "cu44Ol8AJa-_"
    },
    {
      "cell_type": "code",
      "metadata": {
        "colab": {
          "base_uri": "https://localhost:8080/",
          "height": 402
        },
        "id": "kanzKhwREEOB",
        "outputId": "c7e368d4-dd18-47c2-8b0c-57dc778a1d25"
      },
      "source": [
        "X_train, X_test = train_test_split(reviews_dataset, test_size=0.2, random_state=0)\n",
        "X_test"
      ],
      "id": "kanzKhwREEOB",
      "execution_count": 91,
      "outputs": [
        {
          "output_type": "execute_result",
          "data": {
            "text/html": [
              "<div>\n",
              "<style scoped>\n",
              "    .dataframe tbody tr th:only-of-type {\n",
              "        vertical-align: middle;\n",
              "    }\n",
              "\n",
              "    .dataframe tbody tr th {\n",
              "        vertical-align: top;\n",
              "    }\n",
              "\n",
              "    .dataframe thead th {\n",
              "        text-align: right;\n",
              "    }\n",
              "</style>\n",
              "<table border=\"1\" class=\"dataframe\">\n",
              "  <thead>\n",
              "    <tr style=\"text-align: right;\">\n",
              "      <th></th>\n",
              "      <th>text</th>\n",
              "      <th>label</th>\n",
              "    </tr>\n",
              "  </thead>\n",
              "  <tbody>\n",
              "    <tr>\n",
              "      <th>139642</th>\n",
              "      <td>GTA Online doesn't work. Never gonna pay for t...</td>\n",
              "      <td>0</td>\n",
              "    </tr>\n",
              "    <tr>\n",
              "      <th>99134</th>\n",
              "      <td>it's like spend your money simulator but u don...</td>\n",
              "      <td>0</td>\n",
              "    </tr>\n",
              "    <tr>\n",
              "      <th>93332</th>\n",
              "      <td>This was extremely fun until they screwed with...</td>\n",
              "      <td>0</td>\n",
              "    </tr>\n",
              "    <tr>\n",
              "      <th>106323</th>\n",
              "      <td>When you attack modders you are basically aski...</td>\n",
              "      <td>0</td>\n",
              "    </tr>\n",
              "    <tr>\n",
              "      <th>122755</th>\n",
              "      <td>this game woth to buy than Battlefield Hardlin...</td>\n",
              "      <td>1</td>\n",
              "    </tr>\n",
              "    <tr>\n",
              "      <th>...</th>\n",
              "      <td>...</td>\n",
              "      <td>...</td>\n",
              "    </tr>\n",
              "    <tr>\n",
              "      <th>43086</th>\n",
              "      <td>It's like soccer... BUT BALLLLLIN!!!! WITH ACT...</td>\n",
              "      <td>1</td>\n",
              "    </tr>\n",
              "    <tr>\n",
              "      <th>81675</th>\n",
              "      <td>Good game..easy to learn how to play..my sons ...</td>\n",
              "      <td>1</td>\n",
              "    </tr>\n",
              "    <tr>\n",
              "      <th>51962</th>\n",
              "      <td>I don't know why this game is popular especial...</td>\n",
              "      <td>0</td>\n",
              "    </tr>\n",
              "    <tr>\n",
              "      <th>62458</th>\n",
              "      <td>it is one of the best games i have ever played...</td>\n",
              "      <td>1</td>\n",
              "    </tr>\n",
              "    <tr>\n",
              "      <th>49689</th>\n",
              "      <td>It's honestly a terrible game. Like you have t...</td>\n",
              "      <td>0</td>\n",
              "    </tr>\n",
              "  </tbody>\n",
              "</table>\n",
              "<p>32776 rows × 2 columns</p>\n",
              "</div>"
            ],
            "text/plain": [
              "                                                     text  label\n",
              "139642  GTA Online doesn't work. Never gonna pay for t...      0\n",
              "99134   it's like spend your money simulator but u don...      0\n",
              "93332   This was extremely fun until they screwed with...      0\n",
              "106323  When you attack modders you are basically aski...      0\n",
              "122755  this game woth to buy than Battlefield Hardlin...      1\n",
              "...                                                   ...    ...\n",
              "43086   It's like soccer... BUT BALLLLLIN!!!! WITH ACT...      1\n",
              "81675   Good game..easy to learn how to play..my sons ...      1\n",
              "51962   I don't know why this game is popular especial...      0\n",
              "62458   it is one of the best games i have ever played...      1\n",
              "49689   It's honestly a terrible game. Like you have t...      0\n",
              "\n",
              "[32776 rows x 2 columns]"
            ]
          },
          "metadata": {
            "tags": []
          },
          "execution_count": 91
        }
      ]
    },
    {
      "cell_type": "code",
      "metadata": {
        "id": "y8i788kCEhRC"
      },
      "source": [
        "X_test.to_csv(\"drive/MyDrive/NUM/test_dataset.csv\",index=False)"
      ],
      "id": "y8i788kCEhRC",
      "execution_count": 92,
      "outputs": []
    },
    {
      "cell_type": "markdown",
      "metadata": {
        "id": "Kk2YFBsYFJwy"
      },
      "source": [
        "### Labeling functions"
      ],
      "id": "Kk2YFBsYFJwy"
    },
    {
      "cell_type": "code",
      "metadata": {
        "colab": {
          "base_uri": "https://localhost:8080/",
          "height": 402
        },
        "id": "exdKYj8bFIW0",
        "outputId": "6c140f41-e1cf-436d-a226-eef2a87140f6"
      },
      "source": [
        "reviews = X_train.copy()\n",
        "reviews['label'] = -1\n",
        "reviews"
      ],
      "id": "exdKYj8bFIW0",
      "execution_count": 96,
      "outputs": [
        {
          "output_type": "execute_result",
          "data": {
            "text/html": [
              "<div>\n",
              "<style scoped>\n",
              "    .dataframe tbody tr th:only-of-type {\n",
              "        vertical-align: middle;\n",
              "    }\n",
              "\n",
              "    .dataframe tbody tr th {\n",
              "        vertical-align: top;\n",
              "    }\n",
              "\n",
              "    .dataframe thead th {\n",
              "        text-align: right;\n",
              "    }\n",
              "</style>\n",
              "<table border=\"1\" class=\"dataframe\">\n",
              "  <thead>\n",
              "    <tr style=\"text-align: right;\">\n",
              "      <th></th>\n",
              "      <th>text</th>\n",
              "      <th>label</th>\n",
              "    </tr>\n",
              "  </thead>\n",
              "  <tbody>\n",
              "    <tr>\n",
              "      <th>130751</th>\n",
              "      <td>great game</td>\n",
              "      <td>-1</td>\n",
              "    </tr>\n",
              "    <tr>\n",
              "      <th>104827</th>\n",
              "      <td>Was really dissapointed at the fact I couldnt ...</td>\n",
              "      <td>-1</td>\n",
              "    </tr>\n",
              "    <tr>\n",
              "      <th>32847</th>\n",
              "      <td>It's pretty fun</td>\n",
              "      <td>-1</td>\n",
              "    </tr>\n",
              "    <tr>\n",
              "      <th>36612</th>\n",
              "      <td>Best game ever even if you don't like cars or ...</td>\n",
              "      <td>-1</td>\n",
              "    </tr>\n",
              "    <tr>\n",
              "      <th>67605</th>\n",
              "      <td>this game is the besttttt i really like it</td>\n",
              "      <td>-1</td>\n",
              "    </tr>\n",
              "    <tr>\n",
              "      <th>...</th>\n",
              "      <td>...</td>\n",
              "      <td>...</td>\n",
              "    </tr>\n",
              "    <tr>\n",
              "      <th>97639</th>\n",
              "      <td>DUMBASS Take Two KILLED Open IV because they'r...</td>\n",
              "      <td>-1</td>\n",
              "    </tr>\n",
              "    <tr>\n",
              "      <th>95939</th>\n",
              "      <td>For anyone buying this game and looking to pla...</td>\n",
              "      <td>-1</td>\n",
              "    </tr>\n",
              "    <tr>\n",
              "      <th>152315</th>\n",
              "      <td>Don't bother with companies that kill mod support</td>\n",
              "      <td>-1</td>\n",
              "    </tr>\n",
              "    <tr>\n",
              "      <th>117952</th>\n",
              "      <td>Im to lazy to right but I just saw a modder in...</td>\n",
              "      <td>-1</td>\n",
              "    </tr>\n",
              "    <tr>\n",
              "      <th>43567</th>\n",
              "      <td>Probably one of the most fun games you can pla...</td>\n",
              "      <td>-1</td>\n",
              "    </tr>\n",
              "  </tbody>\n",
              "</table>\n",
              "<p>131103 rows × 2 columns</p>\n",
              "</div>"
            ],
            "text/plain": [
              "                                                     text  label\n",
              "130751                                         great game     -1\n",
              "104827  Was really dissapointed at the fact I couldnt ...     -1\n",
              "32847                                     It's pretty fun     -1\n",
              "36612   Best game ever even if you don't like cars or ...     -1\n",
              "67605          this game is the besttttt i really like it     -1\n",
              "...                                                   ...    ...\n",
              "97639   DUMBASS Take Two KILLED Open IV because they'r...     -1\n",
              "95939   For anyone buying this game and looking to pla...     -1\n",
              "152315  Don't bother with companies that kill mod support     -1\n",
              "117952  Im to lazy to right but I just saw a modder in...     -1\n",
              "43567   Probably one of the most fun games you can pla...     -1\n",
              "\n",
              "[131103 rows x 2 columns]"
            ]
          },
          "metadata": {
            "tags": []
          },
          "execution_count": 96
        }
      ]
    },
    {
      "cell_type": "code",
      "metadata": {
        "id": "762344a4-df34-48f8-8a4a-8a6e1dc9a6e0"
      },
      "source": [
        "@labeling_function()\n",
        "def good(review):\n",
        "    if 'not good' in review.text.lower():\n",
        "        return POSITIVE\n",
        "    elif 'good' in review.text.lower():\n",
        "        return NEGATIVE\n",
        "    else:\n",
        "        return ABSTAIN\n",
        "\n",
        "@labeling_function()\n",
        "def bad(review):\n",
        "    if 'not bad' in review.text.lower():\n",
        "        return POSITIVE\n",
        "    elif 'bad' in review.text.lower():\n",
        "        return NEGATIVE\n",
        "    else:\n",
        "        return ABSTAIN"
      ],
      "id": "762344a4-df34-48f8-8a4a-8a6e1dc9a6e0",
      "execution_count": 97,
      "outputs": []
    },
    {
      "cell_type": "code",
      "metadata": {
        "id": "09111475-aef2-4dd5-a996-b62793f3718f"
      },
      "source": [
        "@labeling_function()\n",
        "def love_it(review):\n",
        "  return POSITIVE if 'love it' in review.text.lower() else ABSTAIN\n",
        "\n",
        "@labeling_function()\n",
        "def hate_it(review):\n",
        "  return POSITIVE if 'love it' in review.text.lower() else ABSTAIN\n",
        "\n",
        "@labeling_function()\n",
        "def like_it(review):\n",
        "    if 'don\\'t like it' in review.text.lower():\n",
        "        return NEGATIVE\n",
        "    elif 'like it' in review.text.lower():\n",
        "        return POSITIVE\n",
        "    else:\n",
        "        return ABSTAIN"
      ],
      "id": "09111475-aef2-4dd5-a996-b62793f3718f",
      "execution_count": 98,
      "outputs": []
    },
    {
      "cell_type": "code",
      "metadata": {
        "id": "6d62efed-0f39-483e-b101-112abf2606c6"
      },
      "source": [
        "@labeling_function()\n",
        "def positive_polarity(review):\n",
        "    return POSITIVE if TextBlob(review.text.lower()).sentiment_assessments.polarity > 0.3 else ABSTAIN\n",
        "\n",
        "@labeling_function()\n",
        "def negative_polarity(review):\n",
        "    return NEGATIVE if TextBlob(review.text.lower()).sentiment_assessments.polarity < -0.3 else ABSTAIN\n",
        "\n",
        "@labeling_function()\n",
        "def recommend(review):\n",
        "    if 'not recommend' in review.text.lower():\n",
        "        return NEGATIVE\n",
        "    elif 'recommend' in review.text.lower():\n",
        "        return POSITIVE\n",
        "    else:\n",
        "        return ABSTAIN"
      ],
      "id": "6d62efed-0f39-483e-b101-112abf2606c6",
      "execution_count": 99,
      "outputs": []
    },
    {
      "cell_type": "markdown",
      "metadata": {
        "id": "KHwLbHelJ8PG"
      },
      "source": [
        "### Zaplikowanie funkcji"
      ],
      "id": "KHwLbHelJ8PG"
    },
    {
      "cell_type": "code",
      "metadata": {
        "colab": {
          "base_uri": "https://localhost:8080/"
        },
        "id": "e7b3e796-1cb4-47e6-a5f4-cb724be805a5",
        "outputId": "db811961-f836-4703-e97e-19df23899cce"
      },
      "source": [
        "from snorkel.labeling import PandasLFApplier\n",
        "\n",
        "lfs = [good, bad, like_it, love_it, hate_it, positive_polarity, negative_polarity, recommend]\n",
        "\n",
        "applier = PandasLFApplier(lfs=lfs)\n",
        "L_train = applier.apply(df=reviews)"
      ],
      "id": "e7b3e796-1cb4-47e6-a5f4-cb724be805a5",
      "execution_count": 100,
      "outputs": [
        {
          "output_type": "stream",
          "text": [
            "/usr/local/lib/python3.7/dist-packages/tqdm/std.py:658: FutureWarning: The Panel class is removed from pandas. Accessing it from the top-level namespace will also be removed in the next version\n",
            "  from pandas import Panel\n",
            "100%|██████████| 131103/131103 [04:04<00:00, 535.82it/s]\n"
          ],
          "name": "stderr"
        }
      ]
    },
    {
      "cell_type": "markdown",
      "metadata": {
        "id": "pNlFW8SsKFle"
      },
      "source": [
        "### Pokrycie funkcji"
      ],
      "id": "pNlFW8SsKFle"
    },
    {
      "cell_type": "code",
      "metadata": {
        "colab": {
          "base_uri": "https://localhost:8080/"
        },
        "id": "d3899293-7ce2-48af-9e47-0ecc93eb9dac",
        "outputId": "884d4d50-048a-4352-edfb-4cb33712acbd"
      },
      "source": [
        "coverage_good, coverage_bad, coverage_like, coverage_love,coverage_hate, coverage_posi, coverage_negat, coverage_recom = (L_train != ABSTAIN).mean(axis=0)\n",
        "\n",
        "print(f\"Pokrycie dla funkcji good(): {coverage_good * 100:.1f}%\")\n",
        "print(f\"Pokrycie dla funkcji bad(): {coverage_bad * 100:.1f}%\")\n",
        "print(f\"Pokrycie dla funkcji like_it(): {coverage_like * 100:.1f}%\")\n",
        "print(f\"Pokrycie dla funkcji love_it(): {coverage_love * 100:.1f}%\")\n",
        "print(f\"Pokrycie dla funkcji hate_it(): {coverage_hate * 100:.1f}%\")\n",
        "print(f\"Pokrycie dla funkcji positive_polarity(): {coverage_posi * 100:.1f}%\")\n",
        "print(f\"Pokrycie dla funkcji negative_polarity(): {coverage_negat * 100:.1f}%\")\n",
        "print(f\"Pokrycie dla funkcji recommend(): {coverage_recom * 100:.1f}%\")"
      ],
      "id": "d3899293-7ce2-48af-9e47-0ecc93eb9dac",
      "execution_count": 101,
      "outputs": [
        {
          "output_type": "stream",
          "text": [
            "Pokrycie dla funkcji good(): 16.6%\n",
            "Pokrycie dla funkcji bad(): 5.1%\n",
            "Pokrycie dla funkcji like_it(): 1.2%\n",
            "Pokrycie dla funkcji love_it(): 1.5%\n",
            "Pokrycie dla funkcji hate_it(): 1.5%\n",
            "Pokrycie dla funkcji positive_polarity(): 15.3%\n",
            "Pokrycie dla funkcji negative_polarity(): 7.6%\n",
            "Pokrycie dla funkcji recommend(): 7.8%\n"
          ],
          "name": "stdout"
        }
      ]
    },
    {
      "cell_type": "code",
      "metadata": {
        "colab": {
          "base_uri": "https://localhost:8080/",
          "height": 284
        },
        "id": "6a642318-35cd-4294-8cdd-64dd35ff608d",
        "outputId": "85eb8853-8df7-4b2a-d551-36acd5af6a36"
      },
      "source": [
        "from snorkel.labeling import LFAnalysis\n",
        "\n",
        "LFAnalysis(L=L_train, lfs=lfs).lf_summary()"
      ],
      "id": "6a642318-35cd-4294-8cdd-64dd35ff608d",
      "execution_count": 102,
      "outputs": [
        {
          "output_type": "execute_result",
          "data": {
            "text/html": [
              "<div>\n",
              "<style scoped>\n",
              "    .dataframe tbody tr th:only-of-type {\n",
              "        vertical-align: middle;\n",
              "    }\n",
              "\n",
              "    .dataframe tbody tr th {\n",
              "        vertical-align: top;\n",
              "    }\n",
              "\n",
              "    .dataframe thead th {\n",
              "        text-align: right;\n",
              "    }\n",
              "</style>\n",
              "<table border=\"1\" class=\"dataframe\">\n",
              "  <thead>\n",
              "    <tr style=\"text-align: right;\">\n",
              "      <th></th>\n",
              "      <th>j</th>\n",
              "      <th>Polarity</th>\n",
              "      <th>Coverage</th>\n",
              "      <th>Overlaps</th>\n",
              "      <th>Conflicts</th>\n",
              "    </tr>\n",
              "  </thead>\n",
              "  <tbody>\n",
              "    <tr>\n",
              "      <th>good</th>\n",
              "      <td>0</td>\n",
              "      <td>[0, 1]</td>\n",
              "      <td>0.165511</td>\n",
              "      <td>0.073538</td>\n",
              "      <td>0.057016</td>\n",
              "    </tr>\n",
              "    <tr>\n",
              "      <th>bad</th>\n",
              "      <td>1</td>\n",
              "      <td>[0, 1]</td>\n",
              "      <td>0.050952</td>\n",
              "      <td>0.030396</td>\n",
              "      <td>0.009626</td>\n",
              "    </tr>\n",
              "    <tr>\n",
              "      <th>like_it</th>\n",
              "      <td>2</td>\n",
              "      <td>[0, 1]</td>\n",
              "      <td>0.011647</td>\n",
              "      <td>0.006842</td>\n",
              "      <td>0.005065</td>\n",
              "    </tr>\n",
              "    <tr>\n",
              "      <th>love_it</th>\n",
              "      <td>3</td>\n",
              "      <td>[1]</td>\n",
              "      <td>0.014576</td>\n",
              "      <td>0.014576</td>\n",
              "      <td>0.003181</td>\n",
              "    </tr>\n",
              "    <tr>\n",
              "      <th>hate_it</th>\n",
              "      <td>4</td>\n",
              "      <td>[1]</td>\n",
              "      <td>0.014576</td>\n",
              "      <td>0.014576</td>\n",
              "      <td>0.003181</td>\n",
              "    </tr>\n",
              "    <tr>\n",
              "      <th>positive_polarity</th>\n",
              "      <td>5</td>\n",
              "      <td>[1]</td>\n",
              "      <td>0.152872</td>\n",
              "      <td>0.044522</td>\n",
              "      <td>0.035865</td>\n",
              "    </tr>\n",
              "    <tr>\n",
              "      <th>negative_polarity</th>\n",
              "      <td>6</td>\n",
              "      <td>[0]</td>\n",
              "      <td>0.075803</td>\n",
              "      <td>0.009824</td>\n",
              "      <td>0.002570</td>\n",
              "    </tr>\n",
              "    <tr>\n",
              "      <th>recommend</th>\n",
              "      <td>7</td>\n",
              "      <td>[0, 1]</td>\n",
              "      <td>0.078412</td>\n",
              "      <td>0.031899</td>\n",
              "      <td>0.023073</td>\n",
              "    </tr>\n",
              "  </tbody>\n",
              "</table>\n",
              "</div>"
            ],
            "text/plain": [
              "                   j Polarity  Coverage  Overlaps  Conflicts\n",
              "good               0   [0, 1]  0.165511  0.073538   0.057016\n",
              "bad                1   [0, 1]  0.050952  0.030396   0.009626\n",
              "like_it            2   [0, 1]  0.011647  0.006842   0.005065\n",
              "love_it            3      [1]  0.014576  0.014576   0.003181\n",
              "hate_it            4      [1]  0.014576  0.014576   0.003181\n",
              "positive_polarity  5      [1]  0.152872  0.044522   0.035865\n",
              "negative_polarity  6      [0]  0.075803  0.009824   0.002570\n",
              "recommend          7   [0, 1]  0.078412  0.031899   0.023073"
            ]
          },
          "metadata": {
            "tags": []
          },
          "execution_count": 102
        }
      ]
    },
    {
      "cell_type": "markdown",
      "metadata": {
        "id": "vxZjx9NkKJ05"
      },
      "source": [
        "### Przykładowy wynik funcji *like_it*"
      ],
      "id": "vxZjx9NkKJ05"
    },
    {
      "cell_type": "code",
      "metadata": {
        "colab": {
          "base_uri": "https://localhost:8080/",
          "height": 402
        },
        "id": "3d33c7e1-5f2c-4fa2-84ca-f404394de585",
        "outputId": "94a0ede0-7089-49a1-ff39-83295d2fd15c"
      },
      "source": [
        "from snorkel.analysis import get_label_buckets\n",
        "reviews.iloc[L_train[:,2] == POSITIVE]"
      ],
      "id": "3d33c7e1-5f2c-4fa2-84ca-f404394de585",
      "execution_count": 103,
      "outputs": [
        {
          "output_type": "execute_result",
          "data": {
            "text/html": [
              "<div>\n",
              "<style scoped>\n",
              "    .dataframe tbody tr th:only-of-type {\n",
              "        vertical-align: middle;\n",
              "    }\n",
              "\n",
              "    .dataframe tbody tr th {\n",
              "        vertical-align: top;\n",
              "    }\n",
              "\n",
              "    .dataframe thead th {\n",
              "        text-align: right;\n",
              "    }\n",
              "</style>\n",
              "<table border=\"1\" class=\"dataframe\">\n",
              "  <thead>\n",
              "    <tr style=\"text-align: right;\">\n",
              "      <th></th>\n",
              "      <th>text</th>\n",
              "      <th>label</th>\n",
              "    </tr>\n",
              "  </thead>\n",
              "  <tbody>\n",
              "    <tr>\n",
              "      <th>67605</th>\n",
              "      <td>this game is the besttttt i really like it</td>\n",
              "      <td>-1</td>\n",
              "    </tr>\n",
              "    <tr>\n",
              "      <th>123884</th>\n",
              "      <td>I will divide this game in 2 revies GTAV and G...</td>\n",
              "      <td>-1</td>\n",
              "    </tr>\n",
              "    <tr>\n",
              "      <th>64452</th>\n",
              "      <td>This is probably one fo the most unique and fu...</td>\n",
              "      <td>-1</td>\n",
              "    </tr>\n",
              "    <tr>\n",
              "      <th>148919</th>\n",
              "      <td>Great port onto PC of a cult game. Very well o...</td>\n",
              "      <td>-1</td>\n",
              "    </tr>\n",
              "    <tr>\n",
              "      <th>123201</th>\n",
              "      <td>Amazing it outshines Gta 4 by a landsllde. you...</td>\n",
              "      <td>-1</td>\n",
              "    </tr>\n",
              "    <tr>\n",
              "      <th>...</th>\n",
              "      <td>...</td>\n",
              "      <td>...</td>\n",
              "    </tr>\n",
              "    <tr>\n",
              "      <th>28039</th>\n",
              "      <td>I have been playing monster hunter for a long ...</td>\n",
              "      <td>-1</td>\n",
              "    </tr>\n",
              "    <tr>\n",
              "      <th>132812</th>\n",
              "      <td>Full of cheatersLoading times are redicilous l...</td>\n",
              "      <td>-1</td>\n",
              "    </tr>\n",
              "    <tr>\n",
              "      <th>15741</th>\n",
              "      <td>Good game i like it how it is because its like...</td>\n",
              "      <td>-1</td>\n",
              "    </tr>\n",
              "    <tr>\n",
              "      <th>35489</th>\n",
              "      <td>Terraria is quite the fun sandbox game and in ...</td>\n",
              "      <td>-1</td>\n",
              "    </tr>\n",
              "    <tr>\n",
              "      <th>150412</th>\n",
              "      <td>Product received for free. I like it when the ...</td>\n",
              "      <td>-1</td>\n",
              "    </tr>\n",
              "  </tbody>\n",
              "</table>\n",
              "<p>1477 rows × 2 columns</p>\n",
              "</div>"
            ],
            "text/plain": [
              "                                                     text  label\n",
              "67605          this game is the besttttt i really like it     -1\n",
              "123884  I will divide this game in 2 revies GTAV and G...     -1\n",
              "64452   This is probably one fo the most unique and fu...     -1\n",
              "148919  Great port onto PC of a cult game. Very well o...     -1\n",
              "123201  Amazing it outshines Gta 4 by a landsllde. you...     -1\n",
              "...                                                   ...    ...\n",
              "28039   I have been playing monster hunter for a long ...     -1\n",
              "132812  Full of cheatersLoading times are redicilous l...     -1\n",
              "15741   Good game i like it how it is because its like...     -1\n",
              "35489   Terraria is quite the fun sandbox game and in ...     -1\n",
              "150412  Product received for free. I like it when the ...     -1\n",
              "\n",
              "[1477 rows x 2 columns]"
            ]
          },
          "metadata": {
            "tags": []
          },
          "execution_count": 103
        }
      ]
    },
    {
      "cell_type": "markdown",
      "metadata": {
        "id": "heVkdjS3Jo8l"
      },
      "source": [
        "### Model"
      ],
      "id": "heVkdjS3Jo8l"
    },
    {
      "cell_type": "code",
      "metadata": {
        "id": "D2N2G1XUYBLA"
      },
      "source": [
        "from snorkel.labeling.model import LabelModel\n",
        "\n",
        "label_model = LabelModel(cardinality=2, verbose=True)\n",
        "label_model.fit(L_train=L_train, n_epochs=500, log_freq=100, seed=42)\n",
        "preds_train = label_model.predict(L=L_train)"
      ],
      "id": "D2N2G1XUYBLA",
      "execution_count": 104,
      "outputs": []
    },
    {
      "cell_type": "code",
      "metadata": {
        "id": "tlYKb-HI9ebi",
        "colab": {
          "base_uri": "https://localhost:8080/"
        },
        "outputId": "2ba0c576-ccfa-4af4-b726-fc882755ec0a"
      },
      "source": [
        "import numpy as np\n",
        "\n",
        "labels, counts = np.unique(preds_train, return_counts=True)\n",
        "\n",
        "for l, c in zip(labels, counts):\n",
        "    print(f\"LABEL: {l}, count: {c}\")"
      ],
      "id": "tlYKb-HI9ebi",
      "execution_count": 105,
      "outputs": [
        {
          "output_type": "stream",
          "text": [
            "LABEL: -1, count: 73174\n",
            "LABEL: 0, count: 36718\n",
            "LABEL: 1, count: 21211\n"
          ],
          "name": "stdout"
        }
      ]
    },
    {
      "cell_type": "markdown",
      "metadata": {
        "id": "45xa9lIxbk_w"
      },
      "source": [
        "## Ostateczne zbiory uczące\n",
        "\n"
      ],
      "id": "45xa9lIxbk_w"
    },
    {
      "cell_type": "markdown",
      "metadata": {
        "id": "wJj_quwSJ1oa"
      },
      "source": [
        "### Ze Snorkelem"
      ],
      "id": "wJj_quwSJ1oa"
    },
    {
      "cell_type": "code",
      "metadata": {
        "colab": {
          "base_uri": "https://localhost:8080/",
          "height": 195
        },
        "id": "k54oSrACY5wF",
        "outputId": "2ad5d237-8bf1-4693-954c-65c6da15e1b8"
      },
      "source": [
        "reviews['label'] = preds_train\n",
        "reviews_train = reviews[reviews['label']!=-1][['text','label']]\n",
        "reviews_train.head()"
      ],
      "id": "k54oSrACY5wF",
      "execution_count": 106,
      "outputs": [
        {
          "output_type": "execute_result",
          "data": {
            "text/html": [
              "<div>\n",
              "<style scoped>\n",
              "    .dataframe tbody tr th:only-of-type {\n",
              "        vertical-align: middle;\n",
              "    }\n",
              "\n",
              "    .dataframe tbody tr th {\n",
              "        vertical-align: top;\n",
              "    }\n",
              "\n",
              "    .dataframe thead th {\n",
              "        text-align: right;\n",
              "    }\n",
              "</style>\n",
              "<table border=\"1\" class=\"dataframe\">\n",
              "  <thead>\n",
              "    <tr style=\"text-align: right;\">\n",
              "      <th></th>\n",
              "      <th>text</th>\n",
              "      <th>label</th>\n",
              "    </tr>\n",
              "  </thead>\n",
              "  <tbody>\n",
              "    <tr>\n",
              "      <th>67605</th>\n",
              "      <td>this game is the besttttt i really like it</td>\n",
              "      <td>0</td>\n",
              "    </tr>\n",
              "    <tr>\n",
              "      <th>117413</th>\n",
              "      <td>I must preface that this is not a review base ...</td>\n",
              "      <td>0</td>\n",
              "    </tr>\n",
              "    <tr>\n",
              "      <th>93684</th>\n",
              "      <td>A game that has killed what made it's previous...</td>\n",
              "      <td>0</td>\n",
              "    </tr>\n",
              "    <tr>\n",
              "      <th>154959</th>\n",
              "      <td>Wow This Game Is So GoodI play With My Friend ...</td>\n",
              "      <td>0</td>\n",
              "    </tr>\n",
              "    <tr>\n",
              "      <th>133163</th>\n",
              "      <td>Ok this is GTA V it's pretty dank. run aorund ...</td>\n",
              "      <td>1</td>\n",
              "    </tr>\n",
              "  </tbody>\n",
              "</table>\n",
              "</div>"
            ],
            "text/plain": [
              "                                                     text  label\n",
              "67605          this game is the besttttt i really like it      0\n",
              "117413  I must preface that this is not a review base ...      0\n",
              "93684   A game that has killed what made it's previous...      0\n",
              "154959  Wow This Game Is So GoodI play With My Friend ...      0\n",
              "133163  Ok this is GTA V it's pretty dank. run aorund ...      1"
            ]
          },
          "metadata": {
            "tags": []
          },
          "execution_count": 106
        }
      ]
    },
    {
      "cell_type": "code",
      "metadata": {
        "colab": {
          "base_uri": "https://localhost:8080/"
        },
        "id": "4YbNWfTYb6c5",
        "outputId": "ef4b9eb4-5362-42a4-ec72-0051b2602b30"
      },
      "source": [
        "print(reviews_train.shape)\n",
        "reviews_train.to_csv(\"drive/MyDrive/NUM/train_set_snorkel_labels.csv\",index=False)"
      ],
      "id": "4YbNWfTYb6c5",
      "execution_count": 107,
      "outputs": [
        {
          "output_type": "stream",
          "text": [
            "(57929, 2)\n"
          ],
          "name": "stdout"
        }
      ]
    },
    {
      "cell_type": "markdown",
      "metadata": {
        "id": "yMHbk4TycIoE"
      },
      "source": [
        "### Bez Snorkela"
      ],
      "id": "yMHbk4TycIoE"
    },
    {
      "cell_type": "code",
      "metadata": {
        "colab": {
          "base_uri": "https://localhost:8080/",
          "height": 402
        },
        "id": "s0ICQu0EcgSS",
        "outputId": "c50dcbf5-235e-4ac7-ee39-0504659b3819"
      },
      "source": [
        "revievs_train_nosno = X_train[reviews['label']!=-1]\n",
        "revievs_train_nosno"
      ],
      "id": "s0ICQu0EcgSS",
      "execution_count": 111,
      "outputs": [
        {
          "output_type": "execute_result",
          "data": {
            "text/html": [
              "<div>\n",
              "<style scoped>\n",
              "    .dataframe tbody tr th:only-of-type {\n",
              "        vertical-align: middle;\n",
              "    }\n",
              "\n",
              "    .dataframe tbody tr th {\n",
              "        vertical-align: top;\n",
              "    }\n",
              "\n",
              "    .dataframe thead th {\n",
              "        text-align: right;\n",
              "    }\n",
              "</style>\n",
              "<table border=\"1\" class=\"dataframe\">\n",
              "  <thead>\n",
              "    <tr style=\"text-align: right;\">\n",
              "      <th></th>\n",
              "      <th>text</th>\n",
              "      <th>label</th>\n",
              "    </tr>\n",
              "  </thead>\n",
              "  <tbody>\n",
              "    <tr>\n",
              "      <th>67605</th>\n",
              "      <td>this game is the besttttt i really like it</td>\n",
              "      <td>1</td>\n",
              "    </tr>\n",
              "    <tr>\n",
              "      <th>117413</th>\n",
              "      <td>I must preface that this is not a review base ...</td>\n",
              "      <td>0</td>\n",
              "    </tr>\n",
              "    <tr>\n",
              "      <th>93684</th>\n",
              "      <td>A game that has killed what made it's previous...</td>\n",
              "      <td>0</td>\n",
              "    </tr>\n",
              "    <tr>\n",
              "      <th>154959</th>\n",
              "      <td>Wow This Game Is So GoodI play With My Friend ...</td>\n",
              "      <td>1</td>\n",
              "    </tr>\n",
              "    <tr>\n",
              "      <th>133163</th>\n",
              "      <td>Ok this is GTA V it's pretty dank. run aorund ...</td>\n",
              "      <td>1</td>\n",
              "    </tr>\n",
              "    <tr>\n",
              "      <th>...</th>\n",
              "      <td>...</td>\n",
              "      <td>...</td>\n",
              "    </tr>\n",
              "    <tr>\n",
              "      <th>80186</th>\n",
              "      <td>1v1'ing your friends at rocket league gets sur...</td>\n",
              "      <td>1</td>\n",
              "    </tr>\n",
              "    <tr>\n",
              "      <th>112420</th>\n",
              "      <td>i hate it i got banned for calling some one fa...</td>\n",
              "      <td>0</td>\n",
              "    </tr>\n",
              "    <tr>\n",
              "      <th>41993</th>\n",
              "      <td>Where to Start?I'm not normally a fan of these...</td>\n",
              "      <td>1</td>\n",
              "    </tr>\n",
              "    <tr>\n",
              "      <th>97639</th>\n",
              "      <td>DUMBASS Take Two KILLED Open IV because they'r...</td>\n",
              "      <td>0</td>\n",
              "    </tr>\n",
              "    <tr>\n",
              "      <th>43567</th>\n",
              "      <td>Probably one of the most fun games you can pla...</td>\n",
              "      <td>1</td>\n",
              "    </tr>\n",
              "  </tbody>\n",
              "</table>\n",
              "<p>57929 rows × 2 columns</p>\n",
              "</div>"
            ],
            "text/plain": [
              "                                                     text  label\n",
              "67605          this game is the besttttt i really like it      1\n",
              "117413  I must preface that this is not a review base ...      0\n",
              "93684   A game that has killed what made it's previous...      0\n",
              "154959  Wow This Game Is So GoodI play With My Friend ...      1\n",
              "133163  Ok this is GTA V it's pretty dank. run aorund ...      1\n",
              "...                                                   ...    ...\n",
              "80186   1v1'ing your friends at rocket league gets sur...      1\n",
              "112420  i hate it i got banned for calling some one fa...      0\n",
              "41993   Where to Start?I'm not normally a fan of these...      1\n",
              "97639   DUMBASS Take Two KILLED Open IV because they'r...      0\n",
              "43567   Probably one of the most fun games you can pla...      1\n",
              "\n",
              "[57929 rows x 2 columns]"
            ]
          },
          "metadata": {
            "tags": []
          },
          "execution_count": 111
        }
      ]
    },
    {
      "cell_type": "code",
      "metadata": {
        "id": "-HwKnah_dMGn"
      },
      "source": [
        "revievs_train_nosno.to_csv(\"drive/MyDrive/NUM/train_set_original_labels.csv\",index=False)"
      ],
      "id": "-HwKnah_dMGn",
      "execution_count": 112,
      "outputs": []
    }
  ]
}